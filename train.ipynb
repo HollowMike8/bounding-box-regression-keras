{
  "nbformat": 4,
  "nbformat_minor": 0,
  "metadata": {
    "colab": {
      "name": "train.ipynb",
      "provenance": [],
      "collapsed_sections": [],
      "authorship_tag": "ABX9TyNXJpBRHK/rEGV8Fnw/fIx6",
      "include_colab_link": true
    },
    "kernelspec": {
      "name": "python3",
      "display_name": "Python 3"
    },
    "language_info": {
      "name": "python"
    }
  },
  "cells": [
    {
      "cell_type": "markdown",
      "metadata": {
        "id": "view-in-github",
        "colab_type": "text"
      },
      "source": [
        "<a href=\"https://colab.research.google.com/github/HollowMike8/bounding-box-regression-keras/blob/main/train.ipynb\" target=\"_parent\"><img src=\"https://colab.research.google.com/assets/colab-badge.svg\" alt=\"Open In Colab\"/></a>"
      ]
    },
    {
      "cell_type": "code",
      "source": [
        "! git\n",
        "! git init"
      ],
      "metadata": {
        "id": "cfszx0ePY-HM"
      },
      "execution_count": null,
      "outputs": []
    },
    {
      "cell_type": "code",
      "source": [
        "!git clone https://github.com/HollowMike8/bounding-box-regression-keras.git"
      ],
      "metadata": {
        "id": "ppmWF9Xi3aE5",
        "colab": {
          "base_uri": "https://localhost:8080/"
        },
        "outputId": "33df78d2-a591-4ffe-85f3-ecf507d0f293"
      },
      "execution_count": null,
      "outputs": [
        {
          "output_type": "stream",
          "name": "stdout",
          "text": [
            "Cloning into 'bounding-box-regression-keras'...\n",
            "remote: Enumerating objects: 828, done.\u001b[K\n",
            "remote: Counting objects: 100% (828/828), done.\u001b[K\n",
            "remote: Compressing objects: 100% (824/824), done.\u001b[K\n",
            "remote: Total 828 (delta 8), reused 814 (delta 2), pack-reused 0\u001b[K\n",
            "Receiving objects: 100% (828/828), 7.18 MiB | 8.55 MiB/s, done.\n",
            "Resolving deltas: 100% (8/8), done.\n"
          ]
        }
      ]
    },
    {
      "cell_type": "code",
      "source": [
        "%cd bounding-box-regression-keras/"
      ],
      "metadata": {
        "id": "5zMGmAHuZKi8"
      },
      "execution_count": null,
      "outputs": []
    },
    {
      "cell_type": "code",
      "source": [
        "import os\n",
        "import cv2\n",
        "import numpy as np\n",
        "import matplotlib.pyplot as plt\n",
        "from sklearn.model_selection import train_test_split\n",
        "\n",
        "import tensorflow.keras.layers as tfl\n",
        "from tensorflow.keras.models import Model\n",
        "from tensorflow.keras.optimizers import Adam\n",
        "from tensorflow.keras.applications import VGG16\n",
        "from tensorflow.keras.preprocessing.image import load_img\n",
        "from tensorflow.keras.preprocessing.image import img_to_array"
      ],
      "metadata": {
        "id": "xtpDqM673vVg"
      },
      "execution_count": null,
      "outputs": []
    },
    {
      "cell_type": "code",
      "execution_count": null,
      "metadata": {
        "id": "gvOKgF-T3Aqb"
      },
      "outputs": [],
      "source": [
        "path_dir: str = r\"/content/bounding-box-regression-keras\"\n",
        "\n",
        "import sys\n",
        "sys.path.insert(0,path_dir)\n",
        "from pyimagesearch import config"
      ]
    },
    {
      "cell_type": "code",
      "source": [
        "# load the contents of the CSV annotations file\n",
        "csv_path = os.path.join(path_dir,'dataset', 'airplanes.csv')\n",
        "rows = open(csv_path, \"r\").read().strip().split(\"\\n\")\n",
        "\n",
        "# initialize the list of data (images), bounding box coordinates, filenames\n",
        "data = []\n",
        "targets = []\n",
        "filenames = []\n",
        "\n",
        "# loop over rows and append data in corresponding lists\n",
        "for row in rows:\n",
        "  row = row.split(\",\")\n",
        "  filename, startX, startY, endX, endY = row\n",
        "\n",
        "  image_path = os.path.join(config.images_path, filename)\n",
        "  image = cv2.imread(image_path)\n",
        "  (h, w) = image.shape[:2]\n",
        "\n",
        "  startX = float(startX) / w\n",
        "  startY = float(startY) / h\n",
        "  endX = float(endX) / w\n",
        "  endY = float(endY) / h\n",
        "\n",
        "  image = load_img(image_path, target_size=(224, 224))\n",
        "  image = img_to_array(image)\n",
        "\n",
        "  data.append(image)\n",
        "  targets.append((startX, startY, endX, endY))\n",
        "  filenames.append(filename)"
      ],
      "metadata": {
        "id": "TboIZX7O6d3k"
      },
      "execution_count": null,
      "outputs": []
    },
    {
      "cell_type": "code",
      "source": [
        "# convert the data and targets to NumPy arrays and scale the data\n",
        "data = np.array(data, dtype = \"float32\")/255\n",
        "targets = np.array(targets, dtype = \"float32\")\n",
        "\n",
        "# train, test split\n",
        "split = train_test_split(data, targets, filenames, test_size = 0.10, \n",
        "                         random_state=42)\n",
        "\n",
        "# extract the training and testing data\n",
        "(train_images, test_images) = split[:2]\n",
        "(train_targets, test_targets) = split[2:4]\n",
        "(trainFilenames, testFilenames) = split[4:]"
      ],
      "metadata": {
        "id": "1mfEYSgMb_Wt"
      },
      "execution_count": null,
      "outputs": []
    },
    {
      "cell_type": "code",
      "source": [
        "# write the test filenames\n",
        "print(\"[INFO] saving test filenames...\")\n",
        "f = open(config.test_filenames, \"w\")\n",
        "f.write(\"\\n\".join(testFilenames))\n",
        "f.close()"
      ],
      "metadata": {
        "colab": {
          "base_uri": "https://localhost:8080/"
        },
        "id": "31v2t3n4nbD2",
        "outputId": "c8ab74b7-a414-408c-e364-37c65798c8e5"
      },
      "execution_count": null,
      "outputs": [
        {
          "output_type": "stream",
          "name": "stdout",
          "text": [
            "[INFO] saving test filenames...\n"
          ]
        }
      ]
    },
    {
      "cell_type": "code",
      "source": [
        "# load the VGG16 model excluding the last three FC Dense layers and w/o training\n",
        "vgg = VGG16(weights=\"imagenet\", include_top=False, \n",
        "            input_tensor=tfl.Input(shape=(224, 224, 3)))\n",
        "vgg.trainable = False\n",
        "\n",
        "# flatten the max-pooling output of VGG16\n",
        "flatten = tfl.Flatten()(vgg.output)\n",
        "\n",
        "# FC layers with output size as 4 to predict bounding box coordinates\n",
        "bboxHead = tfl.Dense(128, activation=\"relu\")(flatten)\n",
        "bboxHead = tfl.Dense(64, activation=\"relu\")(bboxHead)\n",
        "bboxHead = tfl.Dense(32, activation=\"relu\")(bboxHead)\n",
        "bboxHead = tfl.Dense(4, activation=\"sigmoid\")(bboxHead)\n",
        "\n",
        "# model\n",
        "model = Model(inputs=vgg.input, outputs=bboxHead)\n",
        "opt = Adam(learning_rate = config.alpha)\n",
        "model.compile(loss=\"mse\", optimizer=opt)\n",
        "print(model.summary())"
      ],
      "metadata": {
        "id": "sgMT7EsenedF"
      },
      "execution_count": null,
      "outputs": []
    },
    {
      "cell_type": "code",
      "source": [
        "# train the model\n",
        "H = model.fit(train_images, train_targets, \n",
        "              validation_data=(test_images, test_targets), \n",
        "              batch_size=config.batch_size, epochs=config.epochs, verbose=1)\n",
        "print(\"[INFO] training bounding box regressor --> FINISHED\")"
      ],
      "metadata": {
        "id": "788U0xgYoDD7"
      },
      "execution_count": null,
      "outputs": []
    },
    {
      "cell_type": "code",
      "source": [
        "# save the model\n",
        "model.save(config.model_path, save_format=\"h5\")\n",
        "\n",
        "# plot the model training history\n",
        "N = config.epochs\n",
        "plt.style.use(\"ggplot\")\n",
        "plt.figure()\n",
        "plt.plot(np.arange(0, N), H.history[\"loss\"], label=\"train_loss\")\n",
        "plt.plot(np.arange(0, N), H.history[\"val_loss\"], label=\"val_loss\")\n",
        "plt.title(\"Bounding Box Regression Loss on Training Set\")\n",
        "plt.xlabel(\"Epoch #\")\n",
        "plt.ylabel(\"Loss\")\n",
        "plt.legend(loc=\"lower left\")\n",
        "plt.savefig(config.plot_path)"
      ],
      "metadata": {
        "colab": {
          "base_uri": "https://localhost:8080/",
          "height": 298
        },
        "id": "BNTrgEZbrhDc",
        "outputId": "b20322ce-2c29-48f6-ed6c-0b2692f4a946"
      },
      "execution_count": null,
      "outputs": [
        {
          "output_type": "display_data",
          "data": {
            "image/png": "[encoded data removed]",
            "text/plain": [
              "<Figure size 432x288 with 1 Axes>"
            ]
          },
          "metadata": {}
        }
      ]
    }
  ]
}