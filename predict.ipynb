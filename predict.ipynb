{
  "nbformat": 4,
  "nbformat_minor": 0,
  "metadata": {
    "colab": {
      "name": "predict.ipynb",
      "provenance": [],
      "authorship_tag": "ABX9TyMtTripe3FDP933gSlXVeKg",
      "include_colab_link": true
    },
    "kernelspec": {
      "name": "python3",
      "display_name": "Python 3"
    },
    "language_info": {
      "name": "python"
    }
  },
  "cells": [
    {
      "cell_type": "markdown",
      "metadata": {
        "id": "view-in-github",
        "colab_type": "text"
      },
      "source": [
        "<a href=\"https://colab.research.google.com/github/HollowMike8/bounding-box-regression-keras/blob/main/predict.ipynb\" target=\"_parent\"><img src=\"https://colab.research.google.com/assets/colab-badge.svg\" alt=\"Open In Colab\"/></a>"
      ]
    },
    {
      "cell_type": "code",
      "execution_count": null,
      "metadata": {
        "id": "3hDKMijvwwIu"
      },
      "outputs": [],
      "source": [
        "!git clone https://github.com/HollowMike8/bounding-box-regression-keras.git"
      ]
    },
    {
      "cell_type": "code",
      "source": [
        "import os\n",
        "import cv2\n",
        "import mimetypes\n",
        "import numpy as np\n",
        "import matplotlib.pyplot as plt\n",
        "\n",
        "from tensorflow.keras.models import load_model\n",
        "from tensorflow.keras.preprocessing.image import load_img\n",
        "from tensorflow.keras.preprocessing.image import img_to_array"
      ],
      "metadata": {
        "id": "p9IlfX8_w6q5"
      },
      "execution_count": null,
      "outputs": []
    },
    {
      "cell_type": "code",
      "source": [
        "path_dir: str = r\"/content/bounding-box-regression-keras\"\n",
        "\n",
        "import sys\n",
        "sys.path.insert(0,path_dir)\n",
        "from pyimagesearch import config"
      ],
      "metadata": {
        "id": "BjwC8OeXxL1g"
      },
      "execution_count": null,
      "outputs": []
    },
    {
      "cell_type": "code",
      "source": [
        "input = os.path.join(config.test_filenames, \"test_images.txt\")\n",
        "\n",
        "# check if the input is a single image or a list of images in txt file\n",
        "filetype = mimetypes.guess_type(input)[0]\n",
        "\n",
        "if \"text/plain\" == filetype:\n",
        "  filenames = open(input, \"r\").read().strip().split(\"\\n\")\n",
        "  imagePaths = []\n",
        "\n",
        "  for filename in filenames:\n",
        "    p = os.path.join(config.images_path, filename)\n",
        "    imagePaths.append(p)\n",
        "elif \"image/jpeg\" == filetype or \"image/png\" == filetype:\n",
        "  imagePaths = [input]"
      ],
      "metadata": {
        "id": "vt9ABsKl09CG"
      },
      "execution_count": null,
      "outputs": []
    },
    {
      "cell_type": "code",
      "source": [
        "# load the trained bounding box regressor\n",
        "model = load_model(config.model_path)\n",
        "\n",
        "# perform a forward pass on the test image/images\n",
        "for i, imagePath in enumerate(imagePaths):\n",
        "  image = load_img(imagePath, target_size = (224, 224))\n",
        "  image = img_to_array(image)/255.0\n",
        "  image = np.expand_dims(image, axis=0)\n",
        "\n",
        "  preds = model.predict(image)[0]\n",
        "  (startX, startY, endX, endY) = preds\n",
        "\n",
        "  # read the test image an upscale the bounding box coordinates\n",
        "  image = cv2.imread(imagePath)\n",
        "  (h,w) = image.shape[:2]\n",
        "\n",
        "  startX = int(startX*w)\n",
        "  startY = int(startY*h)\n",
        "  endX = int(endX*w)\n",
        "  endY = int(endY*h)\n",
        "\n",
        "  # draw the bounding box over the object\n",
        "  cv2.rectangle(image, (startX, startY), (endX, endY), (0, 255, 0), 2)\n",
        "\n",
        "  # plot the image with bounding box\n",
        "  plt.imshow(image)\n",
        "  plt.axis(\"off\")\n",
        "  plt.title(\"Output for %s\"% filenames[i])\n",
        "  plt.show()"
      ],
      "metadata": {
        "id": "rpEWeOqb5ARE"
      },
      "execution_count": null,
      "outputs": []
    }
  ]
}