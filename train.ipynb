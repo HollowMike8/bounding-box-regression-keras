{
  "nbformat": 4,
  "nbformat_minor": 0,
  "metadata": {
    "colab": {
      "name": "train.ipynb",
      "provenance": [],
      "collapsed_sections": [],
      "authorship_tag": "ABX9TyNXJpBRHK/rEGV8Fnw/fIx6",
      "include_colab_link": true
    },
    "kernelspec": {
      "name": "python3",
      "display_name": "Python 3"
    },
    "language_info": {
      "name": "python"
    },
    "accelerator": "GPU"
  },
  "cells": [
    {
      "cell_type": "markdown",
      "metadata": {
        "id": "view-in-github",
        "colab_type": "text"
      },
      "source": [
        "<a href=\"https://colab.research.google.com/github/HollowMike8/bounding-box-regression-keras/blob/main/train.ipynb\" target=\"_parent\"><img src=\"https://colab.research.google.com/assets/colab-badge.svg\" alt=\"Open In Colab\"/></a>"
      ]
    },
    {
      "cell_type": "code",
      "source": [
        "! git\n",
        "! git init"
      ],
      "metadata": {
        "id": "cfszx0ePY-HM"
      },
      "execution_count": null,
      "outputs": []
    },
    {
      "cell_type": "code",
      "source": [
        "!git clone https://github.com/HollowMike8/bounding-box-regression-keras.git"
      ],
      "metadata": {
        "id": "ppmWF9Xi3aE5",
        "colab": {
          "base_uri": "https://localhost:8080/"
        },
        "outputId": "5d84ccbb-b0e4-4be6-9272-f2b3c7a681e7"
      },
      "execution_count": 2,
      "outputs": [
        {
          "output_type": "stream",
          "name": "stdout",
          "text": [
            "Cloning into 'bounding-box-regression-keras'...\n",
            "remote: Enumerating objects: 849, done.\u001b[K\n",
            "remote: Counting objects: 100% (849/849), done.\u001b[K\n",
            "remote: Compressing objects: 100% (844/844), done.\u001b[K\n",
            "remote: Total 849 (delta 17), reused 820 (delta 3), pack-reused 0\u001b[K\n",
            "Receiving objects: 100% (849/849), 87.08 MiB | 10.98 MiB/s, done.\n",
            "Resolving deltas: 100% (17/17), done.\n"
          ]
        }
      ]
    },
    {
      "cell_type": "code",
      "source": [
        "%cd bounding-box-regression-keras/"
      ],
      "metadata": {
        "colab": {
          "base_uri": "https://localhost:8080/"
        },
        "id": "8gSQgsx8diOM",
        "outputId": "95ff3e22-5749-4ae9-d219-a5f4e0b37aa9"
      },
      "execution_count": 3,
      "outputs": [
        {
          "output_type": "stream",
          "name": "stdout",
          "text": [
            "/content/bounding-box-regression-keras\n"
          ]
        }
      ]
    },
    {
      "cell_type": "code",
      "source": [
        "import os\n",
        "import cv2\n",
        "import numpy as np\n",
        "import matplotlib.pyplot as plt\n",
        "from sklearn.model_selection import train_test_split\n",
        "\n",
        "import tensorflow.keras.layers as tfl\n",
        "from tensorflow.keras.models import Model\n",
        "from tensorflow.keras.optimizers import Adam\n",
        "from tensorflow.keras.applications import VGG16\n",
        "from tensorflow.keras.preprocessing.image import load_img\n",
        "from tensorflow.keras.preprocessing.image import img_to_array"
      ],
      "metadata": {
        "id": "xtpDqM673vVg"
      },
      "execution_count": 4,
      "outputs": []
    },
    {
      "cell_type": "code",
      "execution_count": 5,
      "metadata": {
        "id": "gvOKgF-T3Aqb"
      },
      "outputs": [],
      "source": [
        "path_dir: str = r\"/content/bounding-box-regression-keras\"\n",
        "\n",
        "import sys\n",
        "sys.path.insert(0,path_dir)\n",
        "from pyimagesearch import config"
      ]
    },
    {
      "cell_type": "code",
      "source": [
        "# load the contents of the CSV annotations file\n",
        "csv_path = os.path.join(path_dir,'dataset', 'airplanes.csv')\n",
        "rows = open(csv_path, \"r\").read().strip().split(\"\\n\")\n",
        "\n",
        "# initialize the list of data (images), bounding box coordinates, filenames\n",
        "data = []\n",
        "targets = []\n",
        "filenames = []\n",
        "\n",
        "# loop over rows and append data in corresponding lists\n",
        "for row in rows:\n",
        "  row = row.split(\",\")\n",
        "  filename, startX, startY, endX, endY = row\n",
        "\n",
        "  image_path = os.path.join(config.images_path, filename)\n",
        "  image = cv2.imread(image_path)\n",
        "  (h, w) = image.shape[:2]\n",
        "\n",
        "  startX = float(startX) / w\n",
        "  startY = float(startY) / h\n",
        "  endX = float(endX) / w\n",
        "  endY = float(endY) / h\n",
        "\n",
        "  image = load_img(image_path, target_size=(224, 224))\n",
        "  image = img_to_array(image)\n",
        "\n",
        "  data.append(image)\n",
        "  targets.append((startX, startY, endX, endY))\n",
        "  filenames.append(filename)"
      ],
      "metadata": {
        "id": "TboIZX7O6d3k"
      },
      "execution_count": 6,
      "outputs": []
    },
    {
      "cell_type": "code",
      "source": [
        "# convert the data and targets to NumPy arrays and scale the data\n",
        "data = np.array(data, dtype = \"float32\")/255\n",
        "targets = np.array(targets, dtype = \"float32\")\n",
        "\n",
        "# train, test split\n",
        "split = train_test_split(data, targets, filenames, test_size = 0.10, \n",
        "                         random_state=42)\n",
        "\n",
        "# extract the training and testing data\n",
        "(train_images, test_images) = split[:2]\n",
        "(train_targets, test_targets) = split[2:4]\n",
        "(trainFilenames, testFilenames) = split[4:]"
      ],
      "metadata": {
        "id": "1mfEYSgMb_Wt"
      },
      "execution_count": 7,
      "outputs": []
    },
    {
      "cell_type": "code",
      "source": [
        "# write the test filenames\n",
        "print(\"[INFO] saving test filenames...\")\n",
        "f = open(config.test_filenames, \"w\")\n",
        "f.write(\"\\n\".join(testFilenames))\n",
        "f.close()"
      ],
      "metadata": {
        "colab": {
          "base_uri": "https://localhost:8080/"
        },
        "id": "31v2t3n4nbD2",
        "outputId": "ee5f07d3-032e-4e9c-f46a-49cb8e36a082"
      },
      "execution_count": 8,
      "outputs": [
        {
          "output_type": "stream",
          "name": "stdout",
          "text": [
            "[INFO] saving test filenames...\n"
          ]
        }
      ]
    },
    {
      "cell_type": "code",
      "source": [
        "# load the VGG16 model excluding the last three FC Dense layers and w/o training\n",
        "vgg = VGG16(weights=\"imagenet\", include_top=False, \n",
        "            input_tensor=tfl.Input(shape=(224, 224, 3)))\n",
        "vgg.trainable = False\n",
        "\n",
        "# flatten the max-pooling output of VGG16\n",
        "flatten = tfl.Flatten()(vgg.output)\n",
        "\n",
        "# FC layers with output size as 4 to predict bounding box coordinates\n",
        "bboxHead = tfl.Dense(128, activation=\"relu\")(flatten)\n",
        "bboxHead = tfl.Dense(64, activation=\"relu\")(bboxHead)\n",
        "bboxHead = tfl.Dense(32, activation=\"relu\")(bboxHead)\n",
        "bboxHead = tfl.Dense(4, activation=\"sigmoid\")(bboxHead)\n",
        "\n",
        "# model\n",
        "model = Model(inputs=vgg.input, outputs=bboxHead)\n",
        "opt = Adam(learning_rate = config.alpha)\n",
        "model.compile(loss=\"mse\", optimizer=opt)\n",
        "print(model.summary())"
      ],
      "metadata": {
        "colab": {
          "base_uri": "https://localhost:8080/"
        },
        "id": "sgMT7EsenedF",
        "outputId": "6886bf4e-80b6-4968-f653-737d4563bdc6"
      },
      "execution_count": 9,
      "outputs": [
        {
          "output_type": "stream",
          "name": "stdout",
          "text": [
            "Downloading data from https://storage.googleapis.com/tensorflow/keras-applications/vgg16/vgg16_weights_tf_dim_ordering_tf_kernels_notop.h5\n",
            "58892288/58889256 [==============================] - 0s 0us/step\n",
            "58900480/58889256 [==============================] - 0s 0us/step\n",
            "Model: \"model\"\n",
            "_________________________________________________________________\n",
            " Layer (type)                Output Shape              Param #   \n",
            "=================================================================\n",
            " input_1 (InputLayer)        [(None, 224, 224, 3)]     0         \n",
            "                                                                 \n",
            " block1_conv1 (Conv2D)       (None, 224, 224, 64)      1792      \n",
            "                                                                 \n",
            " block1_conv2 (Conv2D)       (None, 224, 224, 64)      36928     \n",
            "                                                                 \n",
            " block1_pool (MaxPooling2D)  (None, 112, 112, 64)      0         \n",
            "                                                                 \n",
            " block2_conv1 (Conv2D)       (None, 112, 112, 128)     73856     \n",
            "                                                                 \n",
            " block2_conv2 (Conv2D)       (None, 112, 112, 128)     147584    \n",
            "                                                                 \n",
            " block2_pool (MaxPooling2D)  (None, 56, 56, 128)       0         \n",
            "                                                                 \n",
            " block3_conv1 (Conv2D)       (None, 56, 56, 256)       295168    \n",
            "                                                                 \n",
            " block3_conv2 (Conv2D)       (None, 56, 56, 256)       590080    \n",
            "                                                                 \n",
            " block3_conv3 (Conv2D)       (None, 56, 56, 256)       590080    \n",
            "                                                                 \n",
            " block3_pool (MaxPooling2D)  (None, 28, 28, 256)       0         \n",
            "                                                                 \n",
            " block4_conv1 (Conv2D)       (None, 28, 28, 512)       1180160   \n",
            "                                                                 \n",
            " block4_conv2 (Conv2D)       (None, 28, 28, 512)       2359808   \n",
            "                                                                 \n",
            " block4_conv3 (Conv2D)       (None, 28, 28, 512)       2359808   \n",
            "                                                                 \n",
            " block4_pool (MaxPooling2D)  (None, 14, 14, 512)       0         \n",
            "                                                                 \n",
            " block5_conv1 (Conv2D)       (None, 14, 14, 512)       2359808   \n",
            "                                                                 \n",
            " block5_conv2 (Conv2D)       (None, 14, 14, 512)       2359808   \n",
            "                                                                 \n",
            " block5_conv3 (Conv2D)       (None, 14, 14, 512)       2359808   \n",
            "                                                                 \n",
            " block5_pool (MaxPooling2D)  (None, 7, 7, 512)         0         \n",
            "                                                                 \n",
            " flatten (Flatten)           (None, 25088)             0         \n",
            "                                                                 \n",
            " dense (Dense)               (None, 128)               3211392   \n",
            "                                                                 \n",
            " dense_1 (Dense)             (None, 64)                8256      \n",
            "                                                                 \n",
            " dense_2 (Dense)             (None, 32)                2080      \n",
            "                                                                 \n",
            " dense_3 (Dense)             (None, 4)                 132       \n",
            "                                                                 \n",
            "=================================================================\n",
            "Total params: 17,936,548\n",
            "Trainable params: 3,221,860\n",
            "Non-trainable params: 14,714,688\n",
            "_________________________________________________________________\n",
            "None\n"
          ]
        }
      ]
    },
    {
      "cell_type": "code",
      "source": [
        "# train the model\n",
        "H = model.fit(train_images, train_targets, \n",
        "              validation_data=(test_images, test_targets), \n",
        "              batch_size=config.batch_size, epochs=config.epochs, verbose=1)\n",
        "print(\"[INFO] training bounding box regressor --> FINISHED\")"
      ],
      "metadata": {
        "colab": {
          "base_uri": "https://localhost:8080/"
        },
        "id": "788U0xgYoDD7",
        "outputId": "07222f04-7ba9-4482-8cdd-8c66223b15dd"
      },
      "execution_count": 10,
      "outputs": [
        {
          "output_type": "stream",
          "name": "stdout",
          "text": [
            "Epoch 1/25\n",
            "23/23 [==============================] - 23s 419ms/step - loss: 0.0141 - val_loss: 0.0014\n",
            "Epoch 2/25\n",
            "23/23 [==============================] - 8s 330ms/step - loss: 0.0016 - val_loss: 8.5399e-04\n",
            "Epoch 3/25\n",
            "23/23 [==============================] - 8s 328ms/step - loss: 8.9779e-04 - val_loss: 7.5434e-04\n",
            "Epoch 4/25\n",
            "23/23 [==============================] - 8s 328ms/step - loss: 7.2744e-04 - val_loss: 6.6836e-04\n",
            "Epoch 5/25\n",
            "23/23 [==============================] - 8s 328ms/step - loss: 6.0086e-04 - val_loss: 7.4253e-04\n",
            "Epoch 6/25\n",
            "23/23 [==============================] - 8s 328ms/step - loss: 5.0954e-04 - val_loss: 6.4006e-04\n",
            "Epoch 7/25\n",
            "23/23 [==============================] - 8s 328ms/step - loss: 4.3347e-04 - val_loss: 6.3235e-04\n",
            "Epoch 8/25\n",
            "23/23 [==============================] - 7s 326ms/step - loss: 3.7192e-04 - val_loss: 6.2300e-04\n",
            "Epoch 9/25\n",
            "23/23 [==============================] - 8s 350ms/step - loss: 3.2644e-04 - val_loss: 6.3449e-04\n",
            "Epoch 10/25\n",
            "23/23 [==============================] - 7s 327ms/step - loss: 2.9494e-04 - val_loss: 5.9962e-04\n",
            "Epoch 11/25\n",
            "23/23 [==============================] - 8s 329ms/step - loss: 2.5524e-04 - val_loss: 6.0120e-04\n",
            "Epoch 12/25\n",
            "23/23 [==============================] - 7s 327ms/step - loss: 2.2484e-04 - val_loss: 6.1944e-04\n",
            "Epoch 13/25\n",
            "23/23 [==============================] - 7s 326ms/step - loss: 2.0476e-04 - val_loss: 5.9564e-04\n",
            "Epoch 14/25\n",
            "23/23 [==============================] - 8s 328ms/step - loss: 1.8916e-04 - val_loss: 5.8012e-04\n",
            "Epoch 15/25\n",
            "23/23 [==============================] - 8s 328ms/step - loss: 1.6621e-04 - val_loss: 5.8524e-04\n",
            "Epoch 16/25\n",
            "23/23 [==============================] - 8s 330ms/step - loss: 1.5079e-04 - val_loss: 5.8628e-04\n",
            "Epoch 17/25\n",
            "23/23 [==============================] - 7s 327ms/step - loss: 1.3699e-04 - val_loss: 5.8716e-04\n",
            "Epoch 18/25\n",
            "23/23 [==============================] - 7s 326ms/step - loss: 1.2719e-04 - val_loss: 5.6168e-04\n",
            "Epoch 19/25\n",
            "23/23 [==============================] - 8s 328ms/step - loss: 1.1427e-04 - val_loss: 5.6451e-04\n",
            "Epoch 20/25\n",
            "23/23 [==============================] - 8s 328ms/step - loss: 1.0737e-04 - val_loss: 5.7184e-04\n",
            "Epoch 21/25\n",
            "23/23 [==============================] - 8s 329ms/step - loss: 1.0147e-04 - val_loss: 5.8069e-04\n",
            "Epoch 22/25\n",
            "23/23 [==============================] - 8s 328ms/step - loss: 9.2993e-05 - val_loss: 5.6965e-04\n",
            "Epoch 23/25\n",
            "23/23 [==============================] - 8s 329ms/step - loss: 8.5950e-05 - val_loss: 5.7759e-04\n",
            "Epoch 24/25\n",
            "23/23 [==============================] - 8s 328ms/step - loss: 8.4934e-05 - val_loss: 5.8977e-04\n",
            "Epoch 25/25\n",
            "23/23 [==============================] - 7s 325ms/step - loss: 8.4521e-05 - val_loss: 5.6368e-04\n",
            "[INFO] training bounding box regressor --> FINISHED\n"
          ]
        }
      ]
    },
    {
      "cell_type": "code",
      "source": [
        "# save the model\n",
        "model.save(config.model_path, save_format=\"h5\")\n",
        "\n",
        "# plot the model training history\n",
        "N = config.epochs\n",
        "plt.style.use(\"ggplot\")\n",
        "plt.figure()\n",
        "plt.plot(np.arange(0, N), H.history[\"loss\"], label=\"train_loss\")\n",
        "plt.plot(np.arange(0, N), H.history[\"val_loss\"], label=\"val_loss\")\n",
        "plt.title(\"Bounding Box Regression Loss on Training Set\")\n",
        "plt.xlabel(\"Epoch #\")\n",
        "plt.ylabel(\"Loss\")\n",
        "plt.legend(loc=\"lower left\")\n",
        "plt.savefig(config.plot_path)"
      ],
      "metadata": {
        "colab": {
          "base_uri": "https://localhost:8080/",
          "height": 298
        },
        "id": "BNTrgEZbrhDc",
        "outputId": "2139f43a-0512-4a8e-c0b7-a6aa49260fb2"
      },
      "execution_count": 11,
      "outputs": [
        {
          "output_type": "display_data",
          "data": {
            "image/png": "[encoded data removed]",
            "text/plain": [
              "<Figure size 432x288 with 1 Axes>"
            ]
          },
          "metadata": {}
        }
      ]
    }
  ]
}